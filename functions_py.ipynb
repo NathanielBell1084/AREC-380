{
  "nbformat": 4,
  "nbformat_minor": 0,
  "metadata": {
    "colab": {
      "provenance": [],
      "authorship_tag": "ABX9TyOM3XsNgJa3uzDBUZeA2uw1"
    },
    "kernelspec": {
      "name": "python3",
      "display_name": "Python 3"
    },
    "language_info": {
      "name": "python"
    }
  },
  "cells": [
    {
      "cell_type": "code",
      "execution_count": 1,
      "metadata": {
        "colab": {
          "base_uri": "https://localhost:8080/"
        },
        "id": "4UrnhI9I93QJ",
        "outputId": "658e9385-7e89-4336-d48a-391e4aebd6b9"
      },
      "outputs": [
        {
          "output_type": "stream",
          "name": "stdout",
          "text": [
            "48 degrees Fahrenheit in Celsius is: 8.88888888888889\n",
            "71 degrees Fahrenheit in Celsius is: 21.666666666666668\n",
            "32 degrees Fahrenheit in Celsius is: 0.0\n"
          ]
        }
      ],
      "source": [
        "# functions.py\n",
        "\n",
        "def fahrToCelsius(tempFahrenheit):\n",
        "    \"\"\"\n",
        "    Converts the input Fahrenheit temperature to Celsius.\n",
        "\n",
        "    Parameters:\n",
        "    -----------\n",
        "    tempFahrenheit: float\n",
        "        Temperature value in Fahrenheit.\n",
        "\n",
        "    Returns:\n",
        "    --------\n",
        "    float\n",
        "        Temperature value in Celsius.\n",
        "    \"\"\"\n",
        "    convertedTemp = (tempFahrenheit - 32) / 1.8\n",
        "    return convertedTemp\n",
        "# Test the function\n",
        "print(\"48 degrees Fahrenheit in Celsius is:\", fahrToCelsius(48))\n",
        "print(\"71 degrees Fahrenheit in Celsius is:\", fahrToCelsius(71))\n",
        "print(\"32 degrees Fahrenheit in Celsius is:\", fahrToCelsius(32))"
      ]
    },
    {
      "cell_type": "code",
      "source": [
        "# functions.py\n",
        "\n",
        "def fahrToCelsius(tempFahrenheit):\n",
        "    \"\"\"\n",
        "    Converts the input Fahrenheit temperature to Celsius.\n",
        "\n",
        "    Parameters:\n",
        "    -----------\n",
        "    tempFahrenheit: float\n",
        "        Temperature value in Fahrenheit.\n",
        "\n",
        "    Returns:\n",
        "    --------\n",
        "    float\n",
        "        Temperature value in Celsius.\n",
        "    \"\"\"\n",
        "    convertedTemp = (tempFahrenheit - 32) / 1.8\n",
        "    return convertedTemp\n",
        "# Test the function\n",
        "print(\"48 degrees Fahrenheit in Celsius is:\", fahrToCelsius(48))\n",
        "print(\"71 degrees Fahrenheit in Celsius is:\", fahrToCelsius(71))\n",
        "print(\"32 degrees Fahrenheit in Celsius is:\", fahrToCelsius(32))\n",
        "\n",
        "def tempClassifier(tempCelsius):\n",
        "    \"\"\"\n",
        "    Reclassifies the input temperature based on certain temperature thresholds.\n",
        "\n",
        "    Parameters:\n",
        "    -----------\n",
        "    tempCelsius: float\n",
        "        Temperature value in Celsius.\n",
        "\n",
        "    Returns:\n",
        "    --------\n",
        "    int\n",
        "        Reclassified temperature value based on the temperature thresholds.\n",
        "    \"\"\"\n",
        "    if tempCelsius < -2:\n",
        "        return 0\n",
        "    elif -2 <= tempCelsius < 2:\n",
        "        return 1\n",
        "    elif 2 <= tempCelsius < 15:\n",
        "        return 2\n",
        "    else:\n",
        "        return 3\n",
        "\n",
        "# Test the function\n",
        "print(\"Class value for 16.5 degrees Celsius is:\", tempClassifier(16.5))\n",
        "print(\"Class value for 2 degrees Celsius is:\", tempClassifier(2))"
      ],
      "metadata": {
        "colab": {
          "base_uri": "https://localhost:8080/"
        },
        "id": "kTd-KnE2ANsz",
        "outputId": "ad8bb344-81cb-41da-d2f8-26e31eef8a1d"
      },
      "execution_count": 19,
      "outputs": [
        {
          "output_type": "stream",
          "name": "stdout",
          "text": [
            "48 degrees Fahrenheit in Celsius is: 8.88888888888889\n",
            "71 degrees Fahrenheit in Celsius is: 21.666666666666668\n",
            "32 degrees Fahrenheit in Celsius is: 0.0\n",
            "Class value for 16.5 degrees Celsius is: 3\n",
            "Class value for 2 degrees Celsius is: 2\n"
          ]
        }
      ]
    },
    {
      "cell_type": "code",
      "source": [
        "# -*- coding: utf-8 -*-\n",
        "\n",
        "\"\"\"temp_analyzer.py - A script to analyze temperatures\n",
        "\n",
        "\"\"\"\n",
        "\n",
        "# Import necessary functions from functions.py\n",
        "from functions import fahrToCelsius, tempClassifier\n",
        "\n",
        "\n",
        "# List of half-hourly temperature values (in degrees Fahrenheit) for one week\n",
        "tempData = [19, 21, 21, 21, 23, 23, 23, 21, 19, 21, 19, 21, 23, 27, 27, 28, 30, 30, 32, 32, 32, 32, 34, 34,\n",
        "            34, 36, 36, 36, 36, 36, 36, 34, 34, 34, 34, 34, 34, 32, 30, 30, 30, 28, 28, 27, 27, 27, 23, 23,\n",
        "            21, 21, 21, 19, 19, 19, 18, 18, 21, 27, 28, 30, 32, 34, 36, 37, 37, 37, 39, 39, 39, 39, 39, 39,\n",
        "            41, 41, 41, 41, 41, 39, 39, 37, 37, 36, 36, 34, 34, 32, 30, 30, 28, 27, 27, 25, 23, 23, 21, 21,\n",
        "            19, 19, 19, 18, 18, 18, 21, 25, 27, 28, 34, 34, 41, 37, 37, 39, 39, 39, 39, 41, 41, 39, 39, 39,\n",
        "            39, 39, 41, 39, 39, 39, 37, 36, 34, 32, 28, 28, 27, 25, 25, 25, 23, 23, 23, 23, 21, 21, 21, 21,\n",
        "            19, 21, 19, 21, 21, 19, 21, 27, 28, 32, 36, 36, 37, 39, 39, 39, 39, 39, 41, 41, 41, 41, 41, 41,\n",
        "            41, 41, 41, 39, 37, 36, 36, 34, 32, 30, 28, 28, 27, 27, 25, 25, 23, 23, 23, 21, 21, 21, 19, 19,\n",
        "            19, 19, 19, 19, 21, 23, 23, 23, 25, 27, 30, 36, 37, 37, 39, 39, 41, 41, 41, 39, 39, 41, 43, 43,\n",
        "            43, 43, 43, 43, 43, 43, 43, 39, 37, 37, 37, 36, 36, 36, 36, 34, 32, 32, 32, 32, 30, 30, 28, 28,\n",
        "            28, 27, 27, 27, 27, 25, 27, 27, 27, 28, 28, 28, 30, 32, 32, 32, 34, 34, 36, 36, 36, 37, 37, 37,\n",
        "            37, 37, 37, 37, 37, 37, 36, 34, 30, 30, 27, 27, 25, 25, 23, 21, 21, 21, 21, 19, 19, 19, 19, 19,\n",
        "            18, 18, 18, 18, 18, 19, 23, 27, 30, 32, 32, 32, 32, 32, 32, 34, 34, 34, 34, 34, 36, 36, 36, 36,\n",
        "            36, 32, 32, 32, 32, 32, 32, 32, 32, 30, 30, 30, 30, 30, 30, 30, 30, 30, 30, 30, 30, 30, 28, 28]\n",
        "\n",
        "# Create an empty list to hold the temperature classes\n",
        "tempClasses = []\n",
        "\n",
        "# Loop through each temperature value in tempData\n",
        "for temp in tempData:\n",
        "    # Convert the Fahrenheit temperature to Celsius\n",
        "    tempCelsius = fahrToCelsius(temp)\n",
        "\n",
        "    # Classify the temperature and add the class number to the list\n",
        "    tempClass = tempClassifier(tempCelsius)\n",
        "    tempClasses.append(tempClass)\n",
        "\n",
        "# Count the number of occurrences of each temperature class in the list\n",
        "classCounts = [tempClasses.count(0), tempClasses.count(1), tempClasses.count(2), tempClasses.count(3)]\n",
        "\n",
        "# Print out the number of temperatures in each temperature class\n",
        "print(\"Temperature Class Counts:\")\n",
        "print(f\"Class 0: {classCounts[0]}\")\n",
        "print(f\"Class 1: {classCounts[1]}\")\n",
        "print(f\"Class 2: {classCounts[2]}\")\n",
        "print(f\"Class 3: {classCounts[3]}\")\n"
      ],
      "metadata": {
        "colab": {
          "base_uri": "https://localhost:8080/",
          "height": 383
        },
        "id": "oqO0V_gtBDfu",
        "outputId": "54799780-c02a-4afb-dc4a-c8116d3270eb"
      },
      "execution_count": 21,
      "outputs": [
        {
          "output_type": "error",
          "ename": "ModuleNotFoundError",
          "evalue": "ignored",
          "traceback": [
            "\u001b[0;31m---------------------------------------------------------------------------\u001b[0m",
            "\u001b[0;31mModuleNotFoundError\u001b[0m                       Traceback (most recent call last)",
            "\u001b[0;32m<ipython-input-21-cc4343729f36>\u001b[0m in \u001b[0;36m<cell line: 8>\u001b[0;34m()\u001b[0m\n\u001b[1;32m      6\u001b[0m \u001b[0;34m\u001b[0m\u001b[0m\n\u001b[1;32m      7\u001b[0m \u001b[0;31m# Import necessary functions from functions.py\u001b[0m\u001b[0;34m\u001b[0m\u001b[0;34m\u001b[0m\u001b[0m\n\u001b[0;32m----> 8\u001b[0;31m \u001b[0;32mfrom\u001b[0m \u001b[0mfunctions\u001b[0m \u001b[0;32mimport\u001b[0m \u001b[0mfahrToCelsius\u001b[0m\u001b[0;34m,\u001b[0m \u001b[0mtempClassifier\u001b[0m\u001b[0;34m\u001b[0m\u001b[0;34m\u001b[0m\u001b[0m\n\u001b[0m\u001b[1;32m      9\u001b[0m \u001b[0;34m\u001b[0m\u001b[0m\n\u001b[1;32m     10\u001b[0m \u001b[0;34m\u001b[0m\u001b[0m\n",
            "\u001b[0;31mModuleNotFoundError\u001b[0m: No module named 'functions'",
            "",
            "\u001b[0;31m---------------------------------------------------------------------------\u001b[0;32m\nNOTE: If your import is failing due to a missing package, you can\nmanually install dependencies using either !pip or !apt.\n\nTo view examples of installing some common dependencies, click the\n\"Open Examples\" button below.\n\u001b[0;31m---------------------------------------------------------------------------\u001b[0m\n"
          ],
          "errorDetails": {
            "actions": [
              {
                "action": "open_url",
                "actionText": "Open Examples",
                "url": "/notebooks/snippets/importing_libraries.ipynb"
              }
            ]
          }
        }
      ]
    }
  ]
}